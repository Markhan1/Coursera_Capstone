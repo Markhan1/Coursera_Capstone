{
 "cells": [
  {
   "cell_type": "code",
   "execution_count": 1,
   "metadata": {},
   "outputs": [
    {
     "name": "stdout",
     "output_type": "stream",
     "text": [
      "Requirement already satisfied: beautifulsoup4 in /home/jupyterlab/conda/envs/python/lib/python3.6/site-packages (4.9.1)\n",
      "Requirement already satisfied: soupsieve>1.2 in /home/jupyterlab/conda/envs/python/lib/python3.6/site-packages (from beautifulsoup4) (2.0.1)\n",
      "done\n"
     ]
    }
   ],
   "source": [
    "! pip install beautifulsoup4\n",
    "import pandas as pd \n",
    "import numpy as np\n",
    "import requests\n",
    "from bs4 import BeautifulSoup\n",
    "print('done')"
   ]
  },
  {
   "cell_type": "code",
   "execution_count": 2,
   "metadata": {},
   "outputs": [
    {
     "name": "stdout",
     "output_type": "stream",
     "text": [
      "Data recieved\n"
     ]
    }
   ],
   "source": [
    "url = \"https://en.wikipedia.org/wiki/List_of_postal_codes_of_Canada:_M\"\n",
    "website_url = requests.get(url).text\n",
    "print('Data recieved')"
   ]
  },
  {
   "cell_type": "code",
   "execution_count": 3,
   "metadata": {},
   "outputs": [
    {
     "data": {
      "text/html": [
       "<div>\n",
       "<style scoped>\n",
       "    .dataframe tbody tr th:only-of-type {\n",
       "        vertical-align: middle;\n",
       "    }\n",
       "\n",
       "    .dataframe tbody tr th {\n",
       "        vertical-align: top;\n",
       "    }\n",
       "\n",
       "    .dataframe thead th {\n",
       "        text-align: right;\n",
       "    }\n",
       "</style>\n",
       "<table border=\"1\" class=\"dataframe\">\n",
       "  <thead>\n",
       "    <tr style=\"text-align: right;\">\n",
       "      <th></th>\n",
       "      <th>PostalCode</th>\n",
       "      <th>Borough</th>\n",
       "      <th>Neighborhood</th>\n",
       "    </tr>\n",
       "  </thead>\n",
       "  <tbody>\n",
       "    <tr>\n",
       "      <th>0</th>\n",
       "      <td>M1B</td>\n",
       "      <td>Scarborough</td>\n",
       "      <td>Malvern</td>\n",
       "    </tr>\n",
       "    <tr>\n",
       "      <th>1</th>\n",
       "      <td>M1C</td>\n",
       "      <td>Scarborough</td>\n",
       "      <td>Rouge Hill</td>\n",
       "    </tr>\n",
       "    <tr>\n",
       "      <th>2</th>\n",
       "      <td>M1E</td>\n",
       "      <td>Scarborough</td>\n",
       "      <td>Guildwood</td>\n",
       "    </tr>\n",
       "    <tr>\n",
       "      <th>3</th>\n",
       "      <td>M1G</td>\n",
       "      <td>Scarborough</td>\n",
       "      <td>Woburn</td>\n",
       "    </tr>\n",
       "    <tr>\n",
       "      <th>4</th>\n",
       "      <td>M1H</td>\n",
       "      <td>Scarborough</td>\n",
       "      <td>Cedarbrae</td>\n",
       "    </tr>\n",
       "  </tbody>\n",
       "</table>\n",
       "</div>"
      ],
      "text/plain": [
       "  PostalCode      Borough Neighborhood\n",
       "0        M1B  Scarborough      Malvern\n",
       "1        M1C  Scarborough   Rouge Hill\n",
       "2        M1E  Scarborough    Guildwood\n",
       "3        M1G  Scarborough       Woburn\n",
       "4        M1H  Scarborough    Cedarbrae"
      ]
     },
     "execution_count": 3,
     "metadata": {},
     "output_type": "execute_result"
    }
   ],
   "source": [
    "tds = []\n",
    "soup = BeautifulSoup(website_url, 'html.parser')\n",
    "divs = soup.findAll(\"table\", {\"class\": \"wikitable sortable\"})\n",
    "for div in divs:\n",
    "    rows = div.findAll('tr')\n",
    "    for row in rows :\n",
    "        tds.append(row.findAll('td'))\n",
    "        \n",
    "tds = str(tds)\n",
    "tds = tds.replace(\"<td>\", \"\").replace(\"</td>\", \"\").split(\"], [\")\n",
    "data = []\n",
    "for i in tds:\n",
    "    data.append(i.replace(\"\\n\", \"\"))\n",
    "    \n",
    "data.pop(0)\n",
    "data[-1] = data[-1].replace(\"]]\", \"\")\n",
    "\n",
    "new_data=[]\n",
    "for d in data:\n",
    "    new_data.append(d.split(', '))\n",
    "    \n",
    "postal_code = []\n",
    "borough = []\n",
    "neighborhood = []\n",
    "for d in new_data:\n",
    "    postal_code.append(d[0])\n",
    "    borough.append(d[1])\n",
    "    neighborhood.append(d[2])\n",
    "\n",
    "df = pd.DataFrame({\"PostalCode\": postal_code, \"Borough\": borough, \"Neighborhood\": neighborhood})\n",
    "df = df[[\"PostalCode\",\"Borough\", \"Neighborhood\"]]\n",
    "df.sort_values('PostalCode', ascending=True, inplace=True)\n",
    "df = df.reset_index(drop=True)\n",
    "\n",
    "to_drop = df[df['Borough'] == 'Not assigned'].index\n",
    "df.drop(to_drop, inplace=True)\n",
    "df = df.reset_index(drop=True)\n",
    "\n",
    "df.head()"
   ]
  },
  {
   "cell_type": "code",
   "execution_count": 4,
   "metadata": {},
   "outputs": [
    {
     "name": "stdout",
     "output_type": "stream",
     "text": [
      "(103, 3)\n"
     ]
    }
   ],
   "source": [
    "print(df.shape)"
   ]
  }
 ],
 "metadata": {
  "kernelspec": {
   "display_name": "Python",
   "language": "python",
   "name": "conda-env-python-py"
  },
  "language_info": {
   "codemirror_mode": {
    "name": "ipython",
    "version": 3
   },
   "file_extension": ".py",
   "mimetype": "text/x-python",
   "name": "python",
   "nbconvert_exporter": "python",
   "pygments_lexer": "ipython3",
   "version": "3.6.10"
  }
 },
 "nbformat": 4,
 "nbformat_minor": 4
}
