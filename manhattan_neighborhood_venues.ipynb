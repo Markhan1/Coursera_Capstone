{
 "cells": [
  {
   "cell_type": "markdown",
   "metadata": {},
   "source": [
    "## Introduction:\n",
    "\n",
    "In this example, there is a client who want’s to buy an apartment in Manhattan, but needs specific venues in the vicinity of the apartment, so he hires me to find him a neighborhood that has all the ideal conditions. The task is to find all three required venues [“Supermarket”, “Gym”, “Pharmacy”] located in a radius of 500 meters."
   ]
  },
  {
   "cell_type": "markdown",
   "metadata": {},
   "source": [
    "## Data Requirements:\n",
    "\n",
    "\t1. Manhattan neighborhood location dataset,\n",
    "\t2. Manhattan Venues location dataset.\n",
    "\n",
    "I’m going to need all neighborhood locations in Manhattan.\n",
    "I will use Foursquare API to get all venues' locations in each neighborhood.\n",
    "Then explore & modify the data to find out which neighborhoods has all three desired venues."
   ]
  },
  {
   "cell_type": "code",
   "execution_count": null,
   "metadata": {},
   "outputs": [],
   "source": []
  }
 ],
 "metadata": {
  "kernelspec": {
   "display_name": "Python",
   "language": "python",
   "name": "conda-env-python-py"
  },
  "language_info": {
   "codemirror_mode": {
    "name": "ipython",
    "version": 3
   },
   "file_extension": ".py",
   "mimetype": "text/x-python",
   "name": "python",
   "nbconvert_exporter": "python",
   "pygments_lexer": "ipython3",
   "version": "3.6.10"
  }
 },
 "nbformat": 4,
 "nbformat_minor": 4
}
